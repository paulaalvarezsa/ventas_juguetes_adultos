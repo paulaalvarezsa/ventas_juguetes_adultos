{
 "cells": [
  {
   "cell_type": "code",
   "execution_count": 32,
   "metadata": {},
   "outputs": [],
   "source": [
    "import pandas as pd\n",
    "import numpy as np\n",
    "\n",
    "\n",
    "from selenium.webdriver.chrome.options import Options\n",
    "from webdriver_manager.chrome import ChromeDriverManager\n",
    "import requests as req\n",
    "from bs4 import BeautifulSoup as bs\n",
    "from selenium import webdriver\n",
    "#driver configuration\n",
    "opciones=Options()\n",
    "opciones.add_experimental_option('excludeSwitches', ['enable-automation'])\n",
    "opciones.add_experimental_option('useAutomationExtension', False)\n",
    "opciones.headless=False    # si True, no aperece la ventana (headless=no visible)\n",
    "opciones.add_argument('--start-maximized')         # comienza maximizado\n",
    "#opciones.add_argument('user-data-dir=selenium')    # mantiene las cookies\n",
    "#opciones.add_extension('driver_folder/adblock.crx')       # adblocker\n",
    "opciones.add_argument('--incognito')\n",
    "PATH = ChromeDriverManager().install()     # instala el driver de chrome\n",
    "driver=webdriver.Chrome(PATH)       # abre una venta una de chrome\n",
    "driver.get('https://www.timeanddate.com/moon/phases/?year=2022')\n",
    "from selenium.webdriver.common.by import By # By es para buscar por tag, clase, id...\n",
    "import time\n",
    "import warnings\n",
    "warnings.filterwarnings('ignore')"
   ]
  },
  {
   "cell_type": "code",
   "execution_count": 33,
   "metadata": {},
   "outputs": [
    {
     "data": {
      "text/plain": [
       "b'<!DOCTYPE html><!--\\nscripts and programs that download content transparent to the user are not allowed without permission\\n--><html lang=en><head><meta http-equiv=Content-Type content=\"text/html; charset=utf-8\"><title>Moon Phases 2022 \\xe2\\x80\\x93 Lunar Calendar</title><meta name=description content=\"Moon phases for 2022 or any year. New Moon and Full Moon calendar with precise times and simulation of the Moon phase today. When is the next Full Moon?\"><meta property=\"og:image\" content=\"https://www.timeanddate.com/scripts/cityog.php?title=Moon%20Phases%20for&amp;tint=0xfaca4e&amp;city=Year%202022&amp;country=for%20any%20location&amp;image=generic\"><meta property=\"og:type\" content=website><style>\\n@font-face{font-family:iconfont;src:url(\"/common/fonts/iconfont.woff2?v8\") format(\"woff2\"),url(\"/common/fonts/iconfont.woff?v8\") format(\"woff\"),url(\"/common/fonts/iconfont.ttf?v8\") format(\"truetype\"),url(\"/common/fonts/iconfont.svg?v8#iconfont\") format(\"svg\");font-weight:400;font-style:normal}\\n</style>\\n\\n<'"
      ]
     },
     "execution_count": 33,
     "metadata": {},
     "output_type": "execute_result"
    }
   ],
   "source": [
    "# This is the url you will scrape \n",
    "url = 'https://www.timeanddate.com/moon/phases/?year=2022'\n",
    "\n",
    "# usamos requests para extraer el HTML\n",
    "\n",
    "html=req.get(url).content   # o .text\n",
    "soup = bs(html, \"html.parser\")\n",
    "html[:1000]\n"
   ]
  },
  {
   "cell_type": "code",
   "execution_count": 34,
   "metadata": {},
   "outputs": [
    {
     "data": {
      "text/plain": [
       "57513"
      ]
     },
     "execution_count": 34,
     "metadata": {},
     "output_type": "execute_result"
    }
   ],
   "source": [
    "len(html)"
   ]
  },
  {
   "cell_type": "code",
   "execution_count": 35,
   "metadata": {},
   "outputs": [],
   "source": [
    "soup = bs(html, \"html.parser\")"
   ]
  },
  {
   "cell_type": "code",
   "execution_count": 36,
   "metadata": {},
   "outputs": [],
   "source": [
    "cookies = driver.find_element(By.XPATH, '//*[@id=\"qc-cmp2-ui\"]/div[2]/div/button[2]').click()"
   ]
  },
  {
   "cell_type": "code",
   "execution_count": 37,
   "metadata": {},
   "outputs": [
    {
     "data": {
      "text/plain": [
       "['Lunation New Moon First Quarter Full Moon Third Quarter Duration']"
      ]
     },
     "execution_count": 37,
     "metadata": {},
     "output_type": "execute_result"
    }
   ],
   "source": [
    "\n",
    "x = driver.find_elements(By.CLASS_NAME, 'head')\n",
    "[i.text for i in x]"
   ]
  },
  {
   "cell_type": "code",
   "execution_count": 43,
   "metadata": {},
   "outputs": [
    {
     "data": {
      "text/plain": [
       "['2 de ene',\n",
       " '19:33',\n",
       " '9 de ene',\n",
       " '19:11',\n",
       " '18 de ene',\n",
       " '0:48',\n",
       " '25 de ene',\n",
       " '14:40',\n",
       " '29d 11h 12m',\n",
       " '1 de feb',\n",
       " '6:46',\n",
       " '8 de feb',\n",
       " '14:50',\n",
       " '16 de feb',\n",
       " '17:56',\n",
       " '23 de feb',\n",
       " '23:32',\n",
       " '29d 11h 49m',\n",
       " '2 de mar',\n",
       " '18:34',\n",
       " '10 de mar',\n",
       " '11:45',\n",
       " '18 de mar',\n",
       " '8:17',\n",
       " '25 de mar',\n",
       " '6:37',\n",
       " '29d 12h 50m',\n",
       " '1 de abr',\n",
       " '8:24',\n",
       " '9 de abr',\n",
       " '8:47',\n",
       " '16 de abr',\n",
       " '20:55',\n",
       " '23 de abr',\n",
       " '13:56',\n",
       " '29d 14h 04m',\n",
       " '30 de abr',\n",
       " '22:28',\n",
       " '9 de may',\n",
       " '2:21',\n",
       " '16 de may',\n",
       " '6:14',\n",
       " '22 de may',\n",
       " '20:43',\n",
       " '29d 15h 02m',\n",
       " '30 de may',\n",
       " '13:30',\n",
       " '7 de jun',\n",
       " '16:48',\n",
       " '14 de jun',\n",
       " '13:51',\n",
       " '21 de jun',\n",
       " '5:10',\n",
       " '29d 15h 22m',\n",
       " '29 de jun',\n",
       " '4:52',\n",
       " '7 de jul',\n",
       " '4:14',\n",
       " '13 de jul',\n",
       " '20:37',\n",
       " '20 de jul',\n",
       " '16:18',\n",
       " '29d 15h 03m',\n",
       " '28 de jul',\n",
       " '19:54',\n",
       " '5 de ago',\n",
       " '13:06',\n",
       " '12 de ago',\n",
       " '3:35',\n",
       " '19 de ago',\n",
       " '6:36',\n",
       " '29d 14h 22m',\n",
       " '27 de ago',\n",
       " '10:17',\n",
       " '3 de sep',\n",
       " '20:07',\n",
       " '10 de sep',\n",
       " '11:59',\n",
       " '17 de sep',\n",
       " '23:52',\n",
       " '29d 13h 37m',\n",
       " '25 de sep',\n",
       " '23:54',\n",
       " '3 de oct',\n",
       " '2:14',\n",
       " '9 de oct',\n",
       " '22:54',\n",
       " '17 de oct',\n",
       " '19:15',\n",
       " '29d 12h 54m',\n",
       " '25 de oct',\n",
       " '12:48',\n",
       " '1 de nov',\n",
       " '7:37',\n",
       " '8 de nov',\n",
       " '12:02',\n",
       " '16 de nov',\n",
       " '14:27',\n",
       " '29d 12h 09m',\n",
       " '23 de nov',\n",
       " '23:57',\n",
       " '30 de nov',\n",
       " '15:36',\n",
       " '8 de dic',\n",
       " '5:08',\n",
       " '16 de dic',\n",
       " '9:56',\n",
       " '29d 11h 20m',\n",
       " '23 de dic',\n",
       " '11:16',\n",
       " '30 de dic',\n",
       " '2:20',\n",
       " ' ',\n",
       " ' ',\n",
       " ' ',\n",
       " ' ',\n",
       " '29d 10h 36m']"
      ]
     },
     "execution_count": 43,
     "metadata": {},
     "output_type": "execute_result"
    }
   ],
   "source": [
    "x1 = driver.find_elements(By.CLASS_NAME, 'tr')\n",
    "[i.text for i in x1]"
   ]
  },
  {
   "cell_type": "code",
   "execution_count": null,
   "metadata": {},
   "outputs": [],
   "source": []
  }
 ],
 "metadata": {
  "kernelspec": {
   "display_name": "Python 3",
   "language": "python",
   "name": "python3"
  },
  "language_info": {
   "codemirror_mode": {
    "name": "ipython",
    "version": 3
   },
   "file_extension": ".py",
   "mimetype": "text/x-python",
   "name": "python",
   "nbconvert_exporter": "python",
   "pygments_lexer": "ipython3",
   "version": "3.10.4"
  },
  "orig_nbformat": 4,
  "vscode": {
   "interpreter": {
    "hash": "aee8b7b246df8f9039afb4144a1f6fd8d2ca17a180786b69acc140d282b71a49"
   }
  }
 },
 "nbformat": 4,
 "nbformat_minor": 2
}
